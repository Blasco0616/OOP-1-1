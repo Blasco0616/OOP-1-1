{
  "nbformat": 4,
  "nbformat_minor": 0,
  "metadata": {
    "colab": {
      "name": "GUI.ipynb",
      "provenance": [],
      "authorship_tag": "ABX9TyMzC/PXJK67iOTDLbJyXvgT",
      "include_colab_link": true
    },
    "kernelspec": {
      "name": "python3",
      "display_name": "Python 3"
    },
    "language_info": {
      "name": "python"
    }
  },
  "cells": [
    {
      "cell_type": "markdown",
      "metadata": {
        "id": "view-in-github",
        "colab_type": "text"
      },
      "source": [
        "<a href=\"https://colab.research.google.com/github/Blasco0616/OOP-1-1/blob/main/GUI.ipynb\" target=\"_parent\"><img src=\"https://colab.research.google.com/assets/colab-badge.svg\" alt=\"Open In Colab\"/></a>"
      ]
    },
    {
      "cell_type": "code",
      "execution_count": 5,
      "metadata": {
        "colab": {
          "base_uri": "https://localhost:8080/"
        },
        "id": "f0GFEHs8Vc6k",
        "outputId": "9bd2fb18-2a3d-4ab7-aae7-f592293ac7c2"
      },
      "outputs": [
        {
          "output_type": "stream",
          "name": "stdout",
          "text": [
            "my prelim grade is90\n",
            "my midterm grade is85\n",
            "my final grade is100\n",
            "My semestral grade is91.66666666666667\n",
            "My birtdate is2022-04-04\n"
          ]
        }
      ],
      "source": [
        "student_name=\"Enter the name of the student\"#@param {type: \"string\"}\n",
        "prelim=90#@param{type: \"number\"}\n",
        "midterm=85#@param{type: \"number\"}\n",
        "final=100#@param{type: \"number\"}\n",
        "semestral_grade=round(prelim+midterm+final)/3\n",
        "\n",
        "print(\"my prelim grade is\"+str(prelim))\n",
        "print(\"my midterm grade is\"+str(midterm))\n",
        "print(\"my final grade is\"+str(final))\n",
        "print(\"My semestral grade is\"+str(semestral_grade))\n",
        "\n",
        "Gender=\"Male\"#@param[\"Male\",\"Female\"]\n",
        "BirthDate=\"2022-04-04\"#@param{type:\"date\"}\n",
        "\n",
        "print(\"My birtdate is\"+BirthDate)"
      ]
    }
  ]
}