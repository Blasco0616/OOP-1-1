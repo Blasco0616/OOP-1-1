{
  "nbformat": 4,
  "nbformat_minor": 0,
  "metadata": {
    "colab": {
      "name": "OOP Concepts 2.ipynb",
      "provenance": [],
      "authorship_tag": "ABX9TyNq+M3X7A9fR/MpP6+ahfRu",
      "include_colab_link": true
    },
    "kernelspec": {
      "name": "python3",
      "display_name": "Python 3"
    },
    "language_info": {
      "name": "python"
    }
  },
  "cells": [
    {
      "cell_type": "markdown",
      "metadata": {
        "id": "view-in-github",
        "colab_type": "text"
      },
      "source": [
        "<a href=\"https://colab.research.google.com/github/Blasco0616/OOP-1-1/blob/main/OOP_Concepts_2.ipynb\" target=\"_parent\"><img src=\"https://colab.research.google.com/assets/colab-badge.svg\" alt=\"Open In Colab\"/></a>"
      ]
    },
    {
      "cell_type": "code",
      "execution_count": 4,
      "metadata": {
        "colab": {
          "base_uri": "https://localhost:8080/"
        },
        "id": "P-aXrLTkqhFn",
        "outputId": "f91c6817-859a-475a-9c51-32f82500673c"
      },
      "outputs": [
        {
          "output_type": "stream",
          "name": "stdout",
          "text": [
            "91.0\n",
            "81.0\n",
            "71.33333333333333\n"
          ]
        }
      ],
      "source": [
        "class Person:\n",
        "   def __init__(student,pre,mid,fin):\n",
        "    student.__pre = pre\n",
        "    student.__mid = mid\n",
        "    student.__fin = fin\n",
        "   \n",
        "   def Grades(student):\n",
        "     return (student.__pre+student.__mid+student.__fin)/3\n",
        "\n",
        "\n",
        "std1 = Person(90,91,92)\n",
        "print(std1.Grades())\n",
        "\n",
        "std2 = Person(80,81,82)\n",
        "print(std2.Grades())\n",
        "\n",
        "std3 = Person(70,71,73)\n",
        "print(std3.Grades())\n",
        "\n",
        "\n",
        "\n"
      ]
    }
  ]
}